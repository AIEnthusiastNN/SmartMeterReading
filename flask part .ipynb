{
 "cells": [
  {
   "cell_type": "code",
   "execution_count": 1,
   "id": "e6ad5a7d",
   "metadata": {},
   "outputs": [],
   "source": [
    "from main import main"
   ]
  },
  {
   "cell_type": "code",
   "execution_count": null,
   "id": "3ad1666f",
   "metadata": {
    "scrolled": true
   },
   "outputs": [
    {
     "name": "stdout",
     "output_type": "stream",
     "text": [
      " * Serving Flask app \"__main__\" (lazy loading)\n",
      " * Environment: production\n",
      "\u001b[31m   WARNING: This is a development server. Do not use it in a production deployment.\u001b[0m\n",
      "\u001b[2m   Use a production WSGI server instead.\u001b[0m\n",
      " * Debug mode: off\n"
     ]
    },
    {
     "name": "stderr",
     "output_type": "stream",
     "text": [
      " * Running on all addresses.\n",
      "   WARNING: This is a development server. Do not use it in a production deployment.\n",
      " * Running on http://127.0.0.1:5005/ (Press CTRL+C to quit)\n",
      "127.0.0.1 - - [15/Dec/2021 09:22:24] \"GET / HTTP/1.1\" 404 -\n",
      "YOLOv5  2021-7-28 torch 1.9.0 CUDA:0 (NVIDIA GeForce RTX 3090, 24576.0MB)\n",
      "\n",
      "Exception on /uploader [GET]\n",
      "Traceback (most recent call last):\n",
      "  File \"C:\\Users\\ASDF\\anaconda3\\lib\\site-packages\\flask\\app.py\", line 2447, in wsgi_app\n",
      "    response = self.full_dispatch_request()\n",
      "  File \"C:\\Users\\ASDF\\anaconda3\\lib\\site-packages\\flask\\app.py\", line 1952, in full_dispatch_request\n",
      "    rv = self.handle_user_exception(e)\n",
      "  File \"C:\\Users\\ASDF\\anaconda3\\lib\\site-packages\\flask\\app.py\", line 1821, in handle_user_exception\n",
      "    reraise(exc_type, exc_value, tb)\n",
      "  File \"C:\\Users\\ASDF\\anaconda3\\lib\\site-packages\\flask\\_compat.py\", line 39, in reraise\n",
      "    raise value\n",
      "  File \"C:\\Users\\ASDF\\anaconda3\\lib\\site-packages\\flask\\app.py\", line 1950, in full_dispatch_request\n",
      "    rv = self.dispatch_request()\n",
      "  File \"C:\\Users\\ASDF\\anaconda3\\lib\\site-packages\\flask\\app.py\", line 1936, in dispatch_request\n",
      "    return self.view_functions[rule.endpoint](**req.view_args)\n",
      "  File \"<ipython-input-2-bcc7bc90aa15>\", line 13, in uploadfile\n",
      "    return main()\n",
      "  File \"D:\\Smart Meter Reading\\Smart Meter Reading Merge All Model\\Yolo\\main.py\", line 7, in main\n",
      "    url=roi_detect()\n",
      "  File \"D:\\Smart Meter Reading\\Smart Meter Reading Merge All Model\\Yolo\\roi_detect.py\", line 194, in main\n",
      "    save_path=run()\n",
      "  File \"C:\\Users\\ASDF\\anaconda3\\lib\\site-packages\\torch\\autograd\\grad_mode.py\", line 28, in decorate_context\n",
      "    return func(*args, **kwargs)\n",
      "  File \"D:\\Smart Meter Reading\\Smart Meter Reading Merge All Model\\Yolo\\roi_detect.py\", line 73, in run\n",
      "    model = attempt_load(weights, map_location=device)  # load FP32 model\n",
      "  File \"D:\\Smart Meter Reading\\Smart Meter Reading Merge All Model\\Yolo\\models\\experimental.py\", line 119, in attempt_load\n",
      "    ckpt = torch.load(attempt_download(w), map_location=map_location)  # load\n",
      "  File \"C:\\Users\\ASDF\\anaconda3\\lib\\site-packages\\torch\\serialization.py\", line 607, in load\n",
      "    return _load(opened_zipfile, map_location, pickle_module, **pickle_load_args)\n",
      "  File \"C:\\Users\\ASDF\\anaconda3\\lib\\site-packages\\torch\\serialization.py\", line 882, in _load\n",
      "    result = unpickler.load()\n",
      "  File \"C:\\Users\\ASDF\\anaconda3\\lib\\site-packages\\torch\\serialization.py\", line 875, in find_class\n",
      "    return super().find_class(mod_name, name)\n",
      "AttributeError: Can't get attribute 'SPPF' on <module 'models.common' from 'D:\\\\Smart Meter Reading\\\\Smart Meter Reading Merge All Model\\\\Yolo\\\\models\\\\common.py'>\n",
      "127.0.0.1 - - [15/Dec/2021 09:22:31] \"GET /uploader HTTP/1.1\" 500 -\n",
      "127.0.0.1 - - [15/Dec/2021 09:22:31] \"\u001b[35m\u001b[1mGET /uploader HTTP/1.1\u001b[0m\" 500 -\n"
     ]
    }
   ],
   "source": [
    "from flask import Flask, render_template, request, jsonify\n",
    "from werkzeug.utils import secure_filename\n",
    "app = Flask(__name__)\n",
    "\n",
    "@app.route('/uploader', methods = ['GET', 'POST'])\n",
    "def uploadfile():\n",
    "   if request.method == 'POST':\n",
    "      f = request.files['file']\n",
    "      f.save(secure_filename(f.filename))\n",
    "#       print(type(f.filename))\n",
    "      return jsonify({\"output\": \"Image Received\"})\n",
    "   else:\n",
    "        return main()\n",
    "if __name__ == '__main__':\n",
    "    \n",
    "#    app.run()\n",
    "   app.run(host='0.0.0.0',port=5005)"
   ]
  },
  {
   "cell_type": "code",
   "execution_count": null,
   "id": "de8801bb",
   "metadata": {},
   "outputs": [],
   "source": []
  },
  {
   "cell_type": "code",
   "execution_count": null,
   "id": "b0fe6a41",
   "metadata": {},
   "outputs": [],
   "source": []
  }
 ],
 "metadata": {
  "kernelspec": {
   "display_name": "Python 3",
   "language": "python",
   "name": "python3"
  },
  "language_info": {
   "codemirror_mode": {
    "name": "ipython",
    "version": 3
   },
   "file_extension": ".py",
   "mimetype": "text/x-python",
   "name": "python",
   "nbconvert_exporter": "python",
   "pygments_lexer": "ipython3",
   "version": "3.8.8"
  }
 },
 "nbformat": 4,
 "nbformat_minor": 5
}
